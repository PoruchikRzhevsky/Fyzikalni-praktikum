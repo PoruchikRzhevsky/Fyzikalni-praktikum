{
 "cells": [
  {
   "cell_type": "code",
   "execution_count": 3,
   "metadata": {},
   "outputs": [],
   "source": [
    "#Importing libraries\n",
    "\n",
    "import pandas as pd\n",
    "import numpy as np\n",
    "import uncertainties as u \n",
    "from uncertainties import *"
   ]
  },
  {
   "cell_type": "code",
   "execution_count": 4,
   "metadata": {},
   "outputs": [],
   "source": [
    "#Constants and values\n",
    "\n",
    "h = ufloat(15.250, 0.008)\n",
    "D = ufloat(39.828, 0.007)\n",
    "d = ufloat(10.056, 0.007)\n",
    "m = ufloat(159.067, 0.001)"
   ]
  },
  {
   "cell_type": "code",
   "execution_count": 5,
   "metadata": {},
   "outputs": [
    {
     "name": "stdout",
     "output_type": "stream",
     "text": [
      "8942+/-6\n"
     ]
    }
   ],
   "source": [
    "#Calculations\n",
    "\n",
    "h = h * 10**(-3) \n",
    "D = D * 10**(-3)\n",
    "d = d * 10**(-3)\n",
    "m = m * 10**(-3)\n",
    "\n",
    "rho = (4 * m) / (np.pi * (D**2 - d**2) * h)\n",
    "print(rho)"
   ]
  }
 ],
 "metadata": {
  "kernelspec": {
   "display_name": "Python 3",
   "language": "python",
   "name": "python3"
  },
  "language_info": {
   "codemirror_mode": {
    "name": "ipython",
    "version": 3
   },
   "file_extension": ".py",
   "mimetype": "text/x-python",
   "name": "python",
   "nbconvert_exporter": "python",
   "pygments_lexer": "ipython3",
   "version": "3.11.6"
  }
 },
 "nbformat": 4,
 "nbformat_minor": 2
}
