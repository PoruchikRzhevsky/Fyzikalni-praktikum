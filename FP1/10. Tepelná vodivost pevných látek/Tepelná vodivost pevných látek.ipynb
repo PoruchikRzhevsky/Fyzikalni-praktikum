{
 "cells": [
  {
   "cell_type": "code",
   "execution_count": 1,
   "metadata": {},
   "outputs": [],
   "source": [
    "#Importing libraries\n",
    "\n",
    "import numpy as np\n",
    "from uncertainties import *"
   ]
  },
  {
   "cell_type": "code",
   "execution_count": 2,
   "metadata": {},
   "outputs": [],
   "source": [
    "#Constants and values\n",
    "\n",
    "U_1 = ufloat(20.606, 0.04)\n",
    "U_2 = ufloat(26.318, 0.05)\n",
    "I_1 = ufloat(1.026, 0.003)\n",
    "I_2 = ufloat(1.31, 0.003)\n",
    "\n",
    "k = ufloat(3.7481259370315 * 10**(-1), 1.3671848731790 * 10**(-2))\n",
    "a = ufloat(20.3 * 10**(-2), 0.2 * 10**(-2))\n",
    "b = ufloat(21.3 * 10**(-2), 0.1 * 10**(-2))\n",
    "d = ufloat(12.6 * 10**(-3), 0.03 * 10**(-3))"
   ]
  },
  {
   "cell_type": "code",
   "execution_count": 3,
   "metadata": {},
   "outputs": [
    {
     "name": "stdout",
     "output_type": "stream",
     "text": [
      "21.14+/-0.07 34.48+/-0.10\n",
      "0.389+/-0.015\n"
     ]
    }
   ],
   "source": [
    "#Calculations\n",
    "\n",
    "P_1 = U_1 * I_1\n",
    "P_2 = U_2 * I_2\n",
    "print(P_1, P_2)\n",
    "\n",
    "lam = d / (a*b*k*2)\n",
    "print(lam)"
   ]
  }
 ],
 "metadata": {
  "kernelspec": {
   "display_name": "Python 3",
   "language": "python",
   "name": "python3"
  },
  "language_info": {
   "codemirror_mode": {
    "name": "ipython",
    "version": 3
   },
   "file_extension": ".py",
   "mimetype": "text/x-python",
   "name": "python",
   "nbconvert_exporter": "python",
   "pygments_lexer": "ipython3",
   "version": "3.11.6"
  }
 },
 "nbformat": 4,
 "nbformat_minor": 2
}
