{
 "cells": [
  {
   "cell_type": "code",
   "execution_count": 1,
   "metadata": {},
   "outputs": [],
   "source": [
    "#Importing libraries\n",
    "\n",
    "import pandas as pd\n",
    "import numpy as np\n",
    "from uncertainties import *"
   ]
  },
  {
   "cell_type": "code",
   "execution_count": 2,
   "metadata": {},
   "outputs": [],
   "source": [
    "#Constants and values\n",
    "\n",
    "T_1 = ufloat(1.998, 0.008)\n",
    "l_1 = ufloat(99.0, 0.3)"
   ]
  },
  {
   "cell_type": "code",
   "execution_count": 3,
   "metadata": {},
   "outputs": [
    {
     "name": "stdout",
     "output_type": "stream",
     "text": [
      "979+/-8\n",
      "0.00019355521170400002+/-0\n",
      "(3.387+/-0.029)e-08\n",
      "0.02738+/-0.00016\n",
      "0.00685+/-0.00004\n",
      "(2.318+/-0.024)e-10\n",
      "(9.43+/-0.10)e-11\n"
     ]
    }
   ],
   "source": [
    "#Calculations\n",
    "\n",
    "g_1 = (4 * (np.pi)**2 * l_1) / T_1**2\n",
    "print(g_1)\n",
    "\n",
    "M_2 = ufloat(1.5, 0)\n",
    "m_2 = ufloat(38.3, 0)\n",
    "p_2 = ufloat(8.19, 0)\n",
    "d_2 = ufloat(50, 0)\n",
    "r_2 = ufloat(46.5, 0)\n",
    "\n",
    "m_2 = m_2 * 10**(-3)\n",
    "p_2 = p_2 * 10**(-3)\n",
    "d_2 = d_2 * 10**(-3)\n",
    "r_2 = r_2 * 10**(-3)\n",
    "\n",
    "J_2 = 2*m_2*((2/5)*(p_2**2) + (d_2**2))\n",
    "print(J_2)\n",
    "\n",
    "T_2 = ufloat(475, 2)\n",
    "\n",
    "D_2 = ((2 * np.pi)/T_2)**2 * J_2\n",
    "print(D_2)\n",
    "\n",
    "L_2 = ufloat(5280, 3)\n",
    "df = ufloat(177, 1)\n",
    "ab = ufloat(612.1, 1)\n",
    "df_2 = (df / ab) * 0.5\n",
    "f_2 = (df_2 * 10**3) / L_2\n",
    "print(f_2)\n",
    "f_2_final = f_2 / 4\n",
    "print(f_2_final)\n",
    "\n",
    "M_2_gr = f_2_final * D_2\n",
    "print(M_2_gr)\n",
    "\n",
    "G_2 = M_2_gr / (2*(M_2*m_2)*d_2*((1/(r_2**2))-(r_2/((4*(d_2**2)+(r_2**2))**(3/2)))))\n",
    "print(G_2)"
   ]
  }
 ],
 "metadata": {
  "kernelspec": {
   "display_name": "Python 3",
   "language": "python",
   "name": "python3"
  },
  "language_info": {
   "codemirror_mode": {
    "name": "ipython",
    "version": 3
   },
   "file_extension": ".py",
   "mimetype": "text/x-python",
   "name": "python",
   "nbconvert_exporter": "python",
   "pygments_lexer": "ipython3",
   "version": "3.11.6"
  }
 },
 "nbformat": 4,
 "nbformat_minor": 2
}
