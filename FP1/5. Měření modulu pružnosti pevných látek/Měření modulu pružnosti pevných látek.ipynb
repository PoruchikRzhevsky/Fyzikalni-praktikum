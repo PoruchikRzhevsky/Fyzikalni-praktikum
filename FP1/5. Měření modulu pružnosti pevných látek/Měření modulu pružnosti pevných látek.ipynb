{
 "cells": [
  {
   "cell_type": "code",
   "execution_count": 1,
   "metadata": {},
   "outputs": [],
   "source": [
    "#Importing libraries\n",
    "\n",
    "import pandas as pd\n",
    "import numpy as np\n",
    "from uncertainties import *"
   ]
  },
  {
   "cell_type": "code",
   "execution_count": 2,
   "metadata": {},
   "outputs": [],
   "source": [
    "#Constants and values\n",
    "\n",
    "k_1plus = ufloat(4.7538165901965*10**(-4),  2.9794349869204*10**(-6))\n",
    "k_1minus = ufloat(4.7664667377935*10**(-4),  5.4479069915030*10**(-6))"
   ]
  },
  {
   "cell_type": "code",
   "execution_count": 3,
   "metadata": {},
   "outputs": [
    {
     "name": "stdout",
     "output_type": "stream",
     "text": [
      "0.0004760+/-0.0000031\n",
      "(1.64+/-0.08)e+11\n",
      "0.0027331+/-0.0000005\n",
      "(1.846+/-0.013)e+11\n",
      "0.00477590+/-0.00000020\n",
      "(1.057+/-0.014)e+11\n",
      "0.04886+/-0.00026\n",
      "0.000499+/-0.000006\n",
      "4.05+/-0.20\n",
      "(7.3+/-0.8)e+10\n"
     ]
    }
   ],
   "source": [
    "#Calculations\n",
    "\n",
    "k_1final = (k_1plus + k_1minus) / 2\n",
    "\n",
    "print(k_1final)\n",
    "\n",
    "g = ufloat(9.809980, 0)\n",
    "l_1 = ufloat(1565, 0)\n",
    "d_1 = ufloat(0.50, 0.01)\n",
    "k_1final_new = ufloat(4760*10**(-7), 120*10**(-7))\n",
    "\n",
    "l_1 = l_1 * 10**(-3)\n",
    "d_1 = d_1 * 10**(-3)\n",
    "\n",
    "E_1 = (4*g*l_1)/(np.pi*(d_1**2)*k_1final_new)\n",
    "\n",
    "print(E_1)\n",
    "\n",
    "k_2_1plus = ufloat(2.7321414396821*10**(-3),  6.1154451675715*10**(-7))\n",
    "k_2_1minus = ufloat(2.7340466541304*10**(-3),  7.2165633954165*10**(-7))\n",
    "\n",
    "k_2_1final = (k_2_1plus + k_2_1minus) / 2\n",
    "\n",
    "print(k_2_1final)\n",
    "\n",
    "l_2 = ufloat(899.2, 1)\n",
    "h_2_1 = ufloat(4.99, 0.01)\n",
    "w_2_1 = ufloat(28.45, 0.05)\n",
    "k_2_1final_new = ufloat(27331*10**(-7), 21*10**(-7))\n",
    "\n",
    "l_2 = l_2 * 10**(-3)\n",
    "h_2_1 = h_2_1 * 10**(-3)\n",
    "w_2_1 = w_2_1 * 10**(-3)\n",
    "\n",
    "E_2_1 = (g * ((l_2)**3)) / (4 * ((h_2_1)**3) * w_2_1 * k_2_1final_new)\n",
    "print(E_2_1)\n",
    "\n",
    "k_2_2plus = ufloat(4.7727484765013*10**(-3),  1.7774045017633*10**(-7))\n",
    "k_2_2minus = ufloat(4.7790613353523*10**(-3),  3.6645865967836*10**(-7))\n",
    "\n",
    "k_2_2final = (k_2_2plus + k_2_2minus) / 2\n",
    "print(k_2_2final)\n",
    "\n",
    "h_2_2 = ufloat(4.99, 0.02)\n",
    "w_2_2 = ufloat(28.44, 0.08)\n",
    "k_2_2final_new = ufloat(47759*10**(-7), 8*10**(-7))\n",
    "\n",
    "h_2_2 = h_2_2 * 10**(-3)\n",
    "w_2_2 = w_2_2 * 10**(-3)\n",
    "\n",
    "E_2_2 = (g * ((l_2)**3)) / (4 * ((h_2_2)**3) * w_2_2 * k_2_2final_new)\n",
    "print(E_2_2)\n",
    "\n",
    "D_3 = ufloat(97.729, 0.524)\n",
    "l_3 = ufloat(523.6, 2)\n",
    "d_3 = ufloat(0.997, 0.012)\n",
    "T_3 = ufloat(40.544, 2)\n",
    "m_3 = ufloat(5905, 0)\n",
    "\n",
    "R_3 = (D_3 / 2) * 10**(-3)\n",
    "l_3 = l_3 * 10**(-3)\n",
    "r_3 = (d_3 / 2) * 10**(-3)\n",
    "T_3 = T_3 / 10\n",
    "m_3 = m_3 * 10**(-3)\n",
    "\n",
    "print(R_3)\n",
    "print(r_3)\n",
    "print(T_3)\n",
    "\n",
    "G = (16 * np.pi * m_3 * ((R_3)**2) * l_3) / (5 * ((r_3)**4) * ((T_3)**2))\n",
    "print(G)"
   ]
  }
 ],
 "metadata": {
  "kernelspec": {
   "display_name": "Python 3",
   "language": "python",
   "name": "python3"
  },
  "language_info": {
   "codemirror_mode": {
    "name": "ipython",
    "version": 3
   },
   "file_extension": ".py",
   "mimetype": "text/x-python",
   "name": "python",
   "nbconvert_exporter": "python",
   "pygments_lexer": "ipython3",
   "version": "3.11.6"
  }
 },
 "nbformat": 4,
 "nbformat_minor": 2
}
