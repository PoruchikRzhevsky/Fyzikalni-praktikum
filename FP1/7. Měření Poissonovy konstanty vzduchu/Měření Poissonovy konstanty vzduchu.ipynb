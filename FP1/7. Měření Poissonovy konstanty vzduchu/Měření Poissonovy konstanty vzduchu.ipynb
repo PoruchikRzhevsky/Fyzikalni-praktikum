{
 "cells": [
  {
   "cell_type": "code",
   "execution_count": 3,
   "metadata": {},
   "outputs": [],
   "source": [
    "#Importing libraries\n",
    "\n",
    "import pandas as pd\n",
    "import numpy as np\n",
    "from uncertainties import *\n",
    "from scipy import interpolate, integrate"
   ]
  },
  {
   "cell_type": "code",
   "execution_count": 4,
   "metadata": {},
   "outputs": [],
   "source": [
    "#Reading data\n",
    "\n",
    "c1 = pd.read_csv('data/c1.csv')\n",
    "c2 = pd.read_csv('data/c2.csv')\n",
    "c3 = pd.read_csv('data/c3.csv')"
   ]
  },
  {
   "cell_type": "code",
   "execution_count": 5,
   "metadata": {},
   "outputs": [],
   "source": [
    "#Constants and values\n",
    "\n",
    "rho_1 = ufloat(997, 0)\n",
    "g = ufloat(9.809980, 0)\n",
    "p_0 = ufloat(97279.3, 0)\n",
    "\n",
    "l_1 = ufloat(26.8, 0.1)\n",
    "l_2 = ufloat(20.4, 0.1)\n",
    "l_3 = ufloat(15.7, 0.4)\n",
    "\n",
    "f_1 = ufloat(638.48, 0.1)\n",
    "f_2 = ufloat(843.55, 0.1)\n",
    "f_3 = ufloat(1067.56, 0.1)\n",
    "\n",
    "rho_2 = ufloat(1.1564, 0)\n",
    "\n",
    "I_0 = 4.05"
   ]
  },
  {
   "cell_type": "code",
   "execution_count": 6,
   "metadata": {},
   "outputs": [
    {
     "name": "stdout",
     "output_type": "stream",
     "text": [
      "342.2+/-1.3\n",
      "344.2+/-1.7\n",
      "335+/-9\n",
      "1.392+/-0.010\n",
      "1.408+/-0.014\n",
      "1.34+/-0.07\n"
     ]
    }
   ],
   "source": [
    "#Calculations\n",
    "\n",
    "c1['h1_u'] = c1['h1'].apply(lambda x: ufloat(x, 0.3))\n",
    "c1['h2_u'] = c1['h2'].apply(lambda x: ufloat(x, 0.3))\n",
    "c1['kappa'] = c1['h1_u'] / (c1['h1_u'] - c1['h2_u'])\n",
    "c1['kappa_u'] = (1/2) * ((c1['h1_u']*c1['h2_u']*rho_1 * g)/(p_0 * (c1['h1_u']-c1['h2_u'])))\n",
    "\n",
    "c2['kappa'] = (c2['I1'] - I_0) / (c2['I1'] - c2['I2'])\n",
    "\n",
    "c_1 = 2 * l_1 * 10**(-2) * f_1\n",
    "c_2 = 2 * l_2 * 10**(-2) * f_2\n",
    "c_3 = 2 * l_3 * 10**(-2) * f_3\n",
    "\n",
    "print(c_1)\n",
    "print(c_2)\n",
    "print(c_3)\n",
    "\n",
    "k_1 = (c_1**2 * rho_2) / p_0\n",
    "k_2 = (c_2**2 * rho_2) / p_0\n",
    "k_3 = (c_3**2 * rho_2) / p_0\n",
    "\n",
    "print(k_1)\n",
    "print(k_2)\n",
    "print(k_3)"
   ]
  }
 ],
 "metadata": {
  "kernelspec": {
   "display_name": "Python 3",
   "language": "python",
   "name": "python3"
  },
  "language_info": {
   "codemirror_mode": {
    "name": "ipython",
    "version": 3
   },
   "file_extension": ".py",
   "mimetype": "text/x-python",
   "name": "python",
   "nbconvert_exporter": "python",
   "pygments_lexer": "ipython3",
   "version": "3.11.6"
  }
 },
 "nbformat": 4,
 "nbformat_minor": 2
}
