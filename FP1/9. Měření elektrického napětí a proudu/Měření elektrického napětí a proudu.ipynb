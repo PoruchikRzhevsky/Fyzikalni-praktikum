{
 "cells": [
  {
   "cell_type": "code",
   "execution_count": 1,
   "metadata": {},
   "outputs": [],
   "source": [
    "#Importing libraries\n",
    "\n",
    "import pandas as pd\n",
    "import numpy as np\n",
    "from uncertainties import *"
   ]
  },
  {
   "cell_type": "code",
   "execution_count": 2,
   "metadata": {},
   "outputs": [],
   "source": [
    "#Constants and values\n",
    "\n",
    "I_1 = ufloat(100*10**(-6), 1.5*10**(-6))\n",
    "U_1 = ufloat(158.04*10**(-3), 0.07*10**(-3))"
   ]
  },
  {
   "cell_type": "code",
   "execution_count": 3,
   "metadata": {},
   "outputs": [
    {
     "name": "stdout",
     "output_type": "stream",
     "text": [
      "1580+/-24\n",
      "315.95+/-0.14\n",
      "157.95+/-0.07\n",
      "105.35+/-0.05\n",
      "79.020+/-0.035\n",
      "(4.84+/-0.07)e+04\n",
      "(9.84+/-0.15)e+04\n",
      "0.0013603738317756815\n"
     ]
    }
   ],
   "source": [
    "#Calculations\n",
    "\n",
    "R_1 = U_1 / (I_1)\n",
    "print(R_1)\n",
    "\n",
    "R_B_1 = (R_1 * I_1) / (0.5002*10**(-3))\n",
    "R_B_2 = (R_1 * I_1) / (1.0006*10**(-3))\n",
    "R_B_3 = (R_1 * I_1) / (1.5002*10**(-3))\n",
    "R_B_4 = (R_1 * I_1) / (2*10**(-3))\n",
    "print(R_B_1)\n",
    "print(R_B_2)\n",
    "print(R_B_3)\n",
    "print(R_B_4)\n",
    "\n",
    "R_P_1 = ((5 / U_1) - 1) * R_1\n",
    "R_P_2 = ((10 / U_1) - 1) * R_1\n",
    "print(R_P_1)\n",
    "print(R_P_2)\n",
    "\n",
    "print((10.7 - 10.696812 - (-10.7 + 10.674076)) / 21.4)"
   ]
  }
 ],
 "metadata": {
  "kernelspec": {
   "display_name": "Python 3",
   "language": "python",
   "name": "python3"
  },
  "language_info": {
   "codemirror_mode": {
    "name": "ipython",
    "version": 3
   },
   "file_extension": ".py",
   "mimetype": "text/x-python",
   "name": "python",
   "nbconvert_exporter": "python",
   "pygments_lexer": "ipython3",
   "version": "3.11.6"
  }
 },
 "nbformat": 4,
 "nbformat_minor": 2
}
