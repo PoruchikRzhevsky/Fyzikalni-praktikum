{
 "cells": [
  {
   "cell_type": "code",
   "execution_count": 7,
   "metadata": {},
   "outputs": [],
   "source": [
    "import numpy as np\n",
    "import pandas as pd\n",
    "import matplotlib.pyplot as plt\n",
    "import uncertainties as u \n",
    "from uncertainties import ufloat\n",
    "from uncertainties.umath import *\n",
    "from uncertainties import unumpy"
   ]
  },
  {
   "cell_type": "code",
   "execution_count": null,
   "metadata": {},
   "outputs": [],
   "source": [
    "#Importing the data\n",
    "\n",
    "data = pd.read_csv('data/gorodilov.csv')"
   ]
  },
  {
   "cell_type": "code",
   "execution_count": 8,
   "metadata": {},
   "outputs": [],
   "source": [
    "# Length parametrs in cm\n",
    "a_list = [30, 50, 70]\n",
    "\n",
    "l = ufloat(100, 0.1)"
   ]
  },
  {
   "cell_type": "code",
   "execution_count": 9,
   "metadata": {},
   "outputs": [
    {
     "name": "stdout",
     "output_type": "stream",
     "text": [
      "R_1 = 98+/-6 and R_2 = 681+/-4\n"
     ]
    }
   ],
   "source": [
    "# Calculate R_1 and R_2\n",
    "R_N_1_list = [240, 90.1, 43]\n",
    "R_N_2_list = [1580, 680, 294]\n",
    "\n",
    "R_1_list = []\n",
    "R_2_list = []\n",
    "\n",
    "for ii,ID in enumerate(a_list):\n",
    "    a = ufloat(a_list[ii], 0.1)\n",
    "    R_1 = (a / (l - a)) * R_N_1_list[ii]\n",
    "    R_1_list.append(R_1)\n",
    "\n",
    "    R_2 = (a / (l - a)) * R_N_2_list[ii]\n",
    "    R_2_list.append(R_2)\n",
    "\n",
    "R_1_list_val = []\n",
    "R_2_list_val = []\n",
    "\n",
    "for ii in range(len(R_1_list)):\n",
    "    R_1_list_val.append(R_1_list[ii].nominal_value)\n",
    "    R_2_list_val.append(R_2_list[ii].nominal_value)\n",
    "\n",
    "R_1 = ufloat(np.mean(R_1_list).nominal_value, sqrt(np.mean(R_1_list).std_dev**2 + np.std(R_1_list_val)**2))\n",
    "R_2 = ufloat(np.mean(R_2_list).nominal_value, sqrt(np.mean(R_2_list).std_dev**2 + np.std(R_2_list_val)**2))\n",
    "\n",
    "print(\"R_1 =\", R_1, 'and', \"R_2 =\", R_2)"
   ]
  },
  {
   "cell_type": "code",
   "execution_count": 10,
   "metadata": {},
   "outputs": [
    {
     "name": "stdout",
     "output_type": "stream",
     "text": [
      "R_T_s = 779+/-7 and R_T_p = 85+/-4\n",
      "R_s = 546.8730158730159 +- 81.72603711092441 and R_p = 95.63174603174603 +- 11.181365723243328\n"
     ]
    }
   ],
   "source": [
    "# Calculate R_T_s and R_T_p\n",
    "R_T_s = R_1 + R_2\n",
    "R_T_p = (R_1 * R_2) / (R_1 + R_2)\n",
    "\n",
    "print(\"R_T_s =\", R_T_s, 'and', \"R_T_p =\", R_T_p)\n",
    "\n",
    "# Calculate R_s and R_p\n",
    "R_N_s_list = [1473, 573, 187]\n",
    "R_N_p_list = [260, 88.2, 37.4]\n",
    "\n",
    "R_s_list = []\n",
    "R_p_list = []\n",
    "\n",
    "for ii,ID in enumerate(a_list):\n",
    "    a = ufloat(a_list[ii], 0.1)\n",
    "    R_s = (a / (l - a)) * R_N_s_list[ii]\n",
    "    R_s_list.append(R_s)\n",
    "\n",
    "    R_p = (a / (l - a)) * R_N_p_list[ii]\n",
    "    R_p_list.append(R_p)\n",
    "\n",
    "R_s_list_val = []\n",
    "R_p_list_val = []\n",
    "\n",
    "for ii in range(len(R_s_list)):\n",
    "    R_s_list_val.append(R_s_list[ii].nominal_value)\n",
    "    R_p_list_val.append(R_p_list[ii].nominal_value)\n",
    "\n",
    "R_s = ufloat(np.mean(R_s_list).nominal_value, sqrt(np.mean(R_s_list).std_dev**2 + np.std(R_s_list_val)**2))\n",
    "R_p = ufloat(np.mean(R_p_list).nominal_value, sqrt(np.mean(R_p_list).std_dev**2 + np.std(R_p_list_val)**2))\n",
    "\n",
    "print(\"R_s =\", R_s.nominal_value, '+-', R_s.std_dev, 'and', \"R_p =\", R_p.nominal_value, '+-', R_p.std_dev)"
   ]
  },
  {
   "cell_type": "code",
   "execution_count": 11,
   "metadata": {},
   "outputs": [
    {
     "name": "stderr",
     "output_type": "stream",
     "text": [
      "C:\\Users\\shepo\\AppData\\Local\\Temp\\ipykernel_16532\\1183279130.py:18: RuntimeWarning: divide by zero encountered in scalar divide\n",
      "  y_s = a * ((lam**2 + 1)/(lam**2 - 1))\n"
     ]
    }
   ],
   "source": [
    "#Equipotential calculation\n",
    "R = 1.5\n",
    "h = 15\n",
    "a = sqrt(h**2 - R**2)\n",
    "delta_U = 2 \n",
    "\n",
    "U_list = [0.25, 0.5, 0.75, 1, 1.25, 1.5, 1.75]\n",
    "\n",
    "lam_list = []\n",
    "y_s_list = []\n",
    "r_list = []\n",
    "\n",
    "for ii,ID in enumerate(U_list):\n",
    "    lam = np.e**(((2*U_list[ii]/delta_U)-1)*np.log((h+a)/R))\n",
    "    lam_list.append(lam)\n",
    "    # print(f'lambda(U={U_list[ii]}) = {lam:.3}')\n",
    "\n",
    "    y_s = a * ((lam**2 + 1)/(lam**2 - 1))\n",
    "    y_s_list.append(y_s)\n",
    "    # print(f'y_s(U={U_list[ii]}) = {y_s:.3}')\n",
    "\n",
    "    r = sqrt(y_s**2 - a**2)\n",
    "    r_list.append(r)\n",
    "    # print(f'r(U={U_list[ii]}) = {r:.3}')\n",
    "\n",
    "# print('lam_list =', lam_list)\n",
    "# print('y_s_list =', y_s_list)\n",
    "# print('r_list =', r_list)"
   ]
  },
  {
   "cell_type": "code",
   "execution_count": 1,
   "metadata": {},
   "outputs": [
    {
     "ename": "NameError",
     "evalue": "name 'pd' is not defined",
     "output_type": "error",
     "traceback": [
      "\u001b[1;31m---------------------------------------------------------------------------\u001b[0m",
      "\u001b[1;31mNameError\u001b[0m                                 Traceback (most recent call last)",
      "Cell \u001b[1;32mIn[1], line 2\u001b[0m\n\u001b[0;32m      1\u001b[0m \u001b[38;5;66;03m# Plotting equipotential lines\u001b[39;00m\n\u001b[1;32m----> 2\u001b[0m data \u001b[38;5;241m=\u001b[39m \u001b[43mpd\u001b[49m\u001b[38;5;241m.\u001b[39mread_csv(\u001b[38;5;124m'\u001b[39m\u001b[38;5;124mgorodilov.csv\u001b[39m\u001b[38;5;124m'\u001b[39m)\n\u001b[0;32m      4\u001b[0m U_025_x \u001b[38;5;241m=\u001b[39m []\n\u001b[0;32m      5\u001b[0m U_05_x \u001b[38;5;241m=\u001b[39m []\n",
      "\u001b[1;31mNameError\u001b[0m: name 'pd' is not defined"
     ]
    }
   ],
   "source": [
    "# Plotting equipotential lines\n",
    "\n",
    "U_025_x = []\n",
    "U_05_x = []\n",
    "U_075_x = []\n",
    "U_1_x = []\n",
    "U_125_x = []\n",
    "U_15_x = []\n",
    "U_175_x = []\n",
    "\n",
    "U_025_y = []\n",
    "U_05_y = []\n",
    "U_075_y = []\n",
    "U_1_y = []\n",
    "U_125_y = []\n",
    "U_15_y = []\n",
    "U_175_y = []\n",
    "\n",
    "for ii in range(len(data['points'])):\n",
    "    if data['points'][ii] == 1:\n",
    "        U_025_x.append(data['x'][ii])\n",
    "        U_025_y.append(data['y'][ii])\n",
    "    elif data['points'][ii] == 2:\n",
    "        U_05_x.append(data['x'][ii])\n",
    "        U_05_y.append(data['y'][ii])\n",
    "    elif data['points'][ii] == 3:\n",
    "        U_075_x.append(data['x'][ii])\n",
    "        U_075_y.append(data['y'][ii])\n",
    "    elif data['points'][ii] == 4:\n",
    "        U_1_x.append(data['x'][ii])\n",
    "        U_1_y.append(data['y'][ii])\n",
    "    elif data['points'][ii] == 5:\n",
    "        U_125_x.append(data['x'][ii])\n",
    "        U_125_y.append(data['y'][ii])\n",
    "    elif data['points'][ii] == 6:\n",
    "        U_15_x.append(data['x'][ii])\n",
    "        U_15_y.append(data['y'][ii]) \n",
    "    elif data['points'][ii] == 7:\n",
    "        U_175_x.append(data['x'][ii])\n",
    "        U_175_y.append(data['y'][ii])   \n",
    "\n",
    "\n",
    "colors = ['#FF7F0E','#D62728','#FFDB58','#2CA02C','#17BECF','#1F77B4','#F0027F']  \n",
    "\n",
    "plt.rc(\"font\", size=10)\n",
    "plt.rcParams[\"font.family\"] = \"Times New Roman\"\n",
    "fig, ax = plt.subplots(figsize=(15, 10))\n",
    "\n",
    "ax.title.set_fontsize(20)\n",
    "ax.set_xlabel(r\"$y$ [cm]\")\n",
    "ax.xaxis.label.set_fontsize(20)\n",
    "ax.set_ylabel(r\"$x$ [cm]\")\n",
    "ax.yaxis.label.set_fontsize(20)\n",
    "ax.tick_params(axis=\"both\", which=\"major\", length=10, width=0.5, labelsize=15)\n",
    "ax.tick_params(axis=\"both\", which=\"minor\", length=5, width=0.5, labelsize=15)\n",
    "# plt.xticks(rotation=45)\n",
    "\n",
    "plt.tight_layout()  \n",
    "\n",
    "ax.axhline(y=0, color='black', linestyle='-', linewidth=1)\n",
    "ax.axvline(x=0, color='black', linestyle='-', linewidth=1)\n",
    "\n",
    "ax.scatter(U_025_y, U_025_x, s=10, color=colors[0], label=r'$U = 0.25 V$')\n",
    "ax.scatter(U_05_y, U_05_x, s=10, color=colors[1], label=r'$U = 0.5 V$')\n",
    "ax.scatter(U_075_y, U_075_x, s=10, color=colors[2], label=r'$U = 0.75 V$')\n",
    "ax.scatter(U_1_y, U_1_x, s=10, color=colors[3], label=r'$U = 1 V$')\n",
    "ax.scatter(U_125_y, U_125_x, s=10, color=colors[4], label=r'$U = 1.25 V$')\n",
    "ax.scatter(U_15_y, U_15_x, s=10, color=colors[5], label=r'$U = 1.5 V$')\n",
    "ax.scatter(U_175_y, U_175_x, s=10, color=colors[6], label=r'$U = 1.75 V$')\n",
    "\n",
    "for ii,ID in enumerate(y_s_list):\n",
    "    center = (y_s_list[ii], 0)\n",
    "    radius = r_list[ii]\n",
    "    circle = plt.Circle(center, radius, edgecolor='b', facecolor='none')  \n",
    "    ax.add_patch(circle)\n",
    "\n",
    "ax.legend(frameon=False, loc=\"upper right\", \n",
    "        #   bbox_to_anchor=(0.068, 1.0),\n",
    "\t\t  fontsize=8, ncol=1, handletextpad=0.3)\n",
    "# ax.set_aspect('equal', adjustable='box')\n",
    "plt.show() \n",
    "\n",
    "# fig.savefig('images/equipotentials.png', bbox_inches='tight')"
   ]
  }
 ],
 "metadata": {
  "kernelspec": {
   "display_name": "Python 3",
   "language": "python",
   "name": "python3"
  },
  "language_info": {
   "codemirror_mode": {
    "name": "ipython",
    "version": 3
   },
   "file_extension": ".py",
   "mimetype": "text/x-python",
   "name": "python",
   "nbconvert_exporter": "python",
   "pygments_lexer": "ipython3",
   "version": "3.11.6"
  }
 },
 "nbformat": 4,
 "nbformat_minor": 2
}
